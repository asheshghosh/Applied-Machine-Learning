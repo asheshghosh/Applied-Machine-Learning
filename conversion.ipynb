{
 "cells": [
  {
   "cell_type": "code",
   "execution_count": null,
   "metadata": {},
   "outputs": [],
   "source": [
    "from nbformat import read\n",
    "import os\n",
    "\n",
    "# Load the notebook\n",
    "notebook_path = \"/ML in Healthcare.ipynb\"\n",
    "with open(notebook_path, \"r\", encoding=\"utf-8\") as f:\n",
    "    nb = read(f, as_version=4)\n",
    "\n",
    "# Extract code cells\n",
    "code_cells = [cell[\"source\"] for cell in nb.cells if cell.cell_type == \"code\"]\n",
    "\n",
    "# Combine code into a single Python script\n",
    "script_content = \"\\n\\n\".join(code_cells)\n",
    "\n",
    "# Save the script\n",
    "script_path = \"/ML_in_Healthcare.py\"\n",
    "with open(script_path, \"w\", encoding=\"utf-8\") as f:\n",
    "    f.write(script_content)\n",
    "\n",
    "script_path\n"
   ]
  }
 ],
 "metadata": {
  "kernelspec": {
   "display_name": "Python 3",
   "language": "python",
   "name": "python3"
  },
  "language_info": {
   "name": "python",
   "version": "3.9.12"
  }
 },
 "nbformat": 4,
 "nbformat_minor": 2
}
